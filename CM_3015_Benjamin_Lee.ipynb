{
  "nbformat": 4,
  "nbformat_minor": 0,
  "metadata": {
    "colab": {
      "provenance": []
    },
    "kernelspec": {
      "name": "python3",
      "display_name": "Python 3"
    },
    "language_info": {
      "name": "python"
    }
  },
  "cells": [
    {
      "cell_type": "markdown",
      "source": [
        "#Exploration Analysis: the best ML model for Wine Dataset"
      ],
      "metadata": {
        "id": "8oZQeHxM57T0"
      }
    },
    {
      "cell_type": "markdown",
      "source": [
        "#1. Using the Wine dataset from sklearn for data analysis\n",
        "i will be using the wine dataset from sklearn for this coursework Based on the description, it has 178 samples, 13 numeric,predictive attributes and class atrributes"
      ],
      "metadata": {
        "id": "HGB77jvrWXpx"
      }
    },
    {
      "cell_type": "code",
      "execution_count": 44,
      "metadata": {
        "colab": {
          "base_uri": "https://localhost:8080/"
        },
        "id": "jKBvsXGr-sv9",
        "outputId": "f3bc4f9d-9253-45af-f263-de603ff8a30e"
      },
      "outputs": [
        {
          "output_type": "stream",
          "name": "stdout",
          "text": [
            ".. _wine_dataset:\n",
            "\n",
            "Wine recognition dataset\n",
            "------------------------\n",
            "\n",
            "**Data Set Characteristics:**\n",
            "\n",
            "    :Number of Instances: 178\n",
            "    :Number of Attributes: 13 numeric, predictive attributes and the class\n",
            "    :Attribute Information:\n",
            " \t\t- Alcohol\n",
            " \t\t- Malic acid\n",
            " \t\t- Ash\n",
            "\t\t- Alcalinity of ash  \n",
            " \t\t- Magnesium\n",
            "\t\t- Total phenols\n",
            " \t\t- Flavanoids\n",
            " \t\t- Nonflavanoid phenols\n",
            " \t\t- Proanthocyanins\n",
            "\t\t- Color intensity\n",
            " \t\t- Hue\n",
            " \t\t- OD280/OD315 of diluted wines\n",
            " \t\t- Proline\n",
            "\n",
            "    - class:\n",
            "            - class_0\n",
            "            - class_1\n",
            "            - class_2\n",
            "\t\t\n",
            "    :Summary Statistics:\n",
            "    \n",
            "    ============================= ==== ===== ======= =====\n",
            "                                   Min   Max   Mean     SD\n",
            "    ============================= ==== ===== ======= =====\n",
            "    Alcohol:                      11.0  14.8    13.0   0.8\n",
            "    Malic Acid:                   0.74  5.80    2.34  1.12\n",
            "    Ash:                          1.36  3.23    2.36  0.27\n",
            "    Alcalinity of Ash:            10.6  30.0    19.5   3.3\n",
            "    Magnesium:                    70.0 162.0    99.7  14.3\n",
            "    Total Phenols:                0.98  3.88    2.29  0.63\n",
            "    Flavanoids:                   0.34  5.08    2.03  1.00\n",
            "    Nonflavanoid Phenols:         0.13  0.66    0.36  0.12\n",
            "    Proanthocyanins:              0.41  3.58    1.59  0.57\n",
            "    Colour Intensity:              1.3  13.0     5.1   2.3\n",
            "    Hue:                          0.48  1.71    0.96  0.23\n",
            "    OD280/OD315 of diluted wines: 1.27  4.00    2.61  0.71\n",
            "    Proline:                       278  1680     746   315\n",
            "    ============================= ==== ===== ======= =====\n",
            "\n",
            "    :Missing Attribute Values: None\n",
            "    :Class Distribution: class_0 (59), class_1 (71), class_2 (48)\n",
            "    :Creator: R.A. Fisher\n",
            "    :Donor: Michael Marshall (MARSHALL%PLU@io.arc.nasa.gov)\n",
            "    :Date: July, 1988\n",
            "\n",
            "This is a copy of UCI ML Wine recognition datasets.\n",
            "https://archive.ics.uci.edu/ml/machine-learning-databases/wine/wine.data\n",
            "\n",
            "The data is the results of a chemical analysis of wines grown in the same\n",
            "region in Italy by three different cultivators. There are thirteen different\n",
            "measurements taken for different constituents found in the three types of\n",
            "wine.\n",
            "\n",
            "Original Owners: \n",
            "\n",
            "Forina, M. et al, PARVUS - \n",
            "An Extendible Package for Data Exploration, Classification and Correlation. \n",
            "Institute of Pharmaceutical and Food Analysis and Technologies,\n",
            "Via Brigata Salerno, 16147 Genoa, Italy.\n",
            "\n",
            "Citation:\n",
            "\n",
            "Lichman, M. (2013). UCI Machine Learning Repository\n",
            "[https://archive.ics.uci.edu/ml]. Irvine, CA: University of California,\n",
            "School of Information and Computer Science. \n",
            "\n",
            ".. topic:: References\n",
            "\n",
            "  (1) S. Aeberhard, D. Coomans and O. de Vel, \n",
            "  Comparison of Classifiers in High Dimensional Settings, \n",
            "  Tech. Rep. no. 92-02, (1992), Dept. of Computer Science and Dept. of  \n",
            "  Mathematics and Statistics, James Cook University of North Queensland. \n",
            "  (Also submitted to Technometrics). \n",
            "\n",
            "  The data was used with many others for comparing various \n",
            "  classifiers. The classes are separable, though only RDA \n",
            "  has achieved 100% correct classification. \n",
            "  (RDA : 100%, QDA 99.4%, LDA 98.9%, 1NN 96.1% (z-transformed data)) \n",
            "  (All results using the leave-one-out technique) \n",
            "\n",
            "  (2) S. Aeberhard, D. Coomans and O. de Vel, \n",
            "  \"THE CLASSIFICATION PERFORMANCE OF RDA\" \n",
            "  Tech. Rep. no. 92-01, (1992), Dept. of Computer Science and Dept. of \n",
            "  Mathematics and Statistics, James Cook University of North Queensland. \n",
            "  (Also submitted to Journal of Chemometrics).\n",
            "\n"
          ]
        }
      ],
      "source": [
        "# set matplotlib backend to inline\n",
        "%matplotlib inline\n",
        "\n",
        "# import modules\n",
        "from sklearn import datasets\n",
        "import numpy as np\n",
        "import matplotlib.pyplot as plt\n",
        "import pandas as pd\n",
        "#import seaborn as sns\n",
        "\n",
        "# load data\n",
        "wine=datasets.load_wine()\n",
        "# print(wine.DESCR)\n",
        "\n",
        "# this dataset has 13 features, we will only choose a subset of these\n",
        "df_wine = pd.DataFrame(wine.data, columns = wine.feature_names)\n",
        "selected_features = ['alcohol','flavanoids','color_intensity','ash']\n",
        "\n",
        "# extract the data as numpy arrays of features, X, and target, y\n",
        "X = df_wine[selected_features].values\n",
        "y = wine.target\n",
        "print(wine.DESCR)"
      ]
    },
    {
      "cell_type": "code",
      "source": [
        "from sklearn.model_selection import train_test_split\n",
        "from sklearn.preprocessing import StandardScaler\n",
        "\n",
        "df_wine = pd.DataFrame(data=wine.data, columns=wine.feature_names)\n",
        "# Add the target column correctly\n",
        "df_wine['target'] = pd.Series(wine.target)\n",
        "\n",
        "# Check for missing values\n",
        "if df_wine.isnull().sum().any():\n",
        "    print(\"Missing values found in the dataset.\")\n",
        "else:\n",
        "    print(\"No missing values in the dataset.\")\n",
        "\n",
        "# Feature Scaling\n",
        "scaler = StandardScaler()\n",
        "# Scale only the features, not the target\n",
        "feature_columns = df_wine.columns[:-1]\n",
        "df_wine[feature_columns] = scaler.fit_transform(df_wine[feature_columns])\n",
        "\n",
        "# Train-Test Split\n",
        "# Separate features and target variable\n",
        "X = df_wine[feature_columns]\n",
        "y = df_wine['target']\n",
        "X_train, X_test, y_train, y_test = train_test_split(X, y, test_size=0.2, random_state=42)\n",
        "\n",
        "print(\"Data preprocessing complete. The dataset is ready for modeling.\")\n"
      ],
      "metadata": {
        "colab": {
          "base_uri": "https://localhost:8080/"
        },
        "id": "OAj2NVzP9ixr",
        "outputId": "8ddd48ba-eb90-498a-b55b-cc3e5696a423"
      },
      "execution_count": 45,
      "outputs": [
        {
          "output_type": "stream",
          "name": "stdout",
          "text": [
            "No missing values in the dataset.\n",
            "Data preprocessing complete. The dataset is ready for modeling.\n"
          ]
        }
      ]
    },
    {
      "cell_type": "markdown",
      "source": [
        "#Dataset loading and preprocsessing"
      ],
      "metadata": {
        "id": "6ztCXrAVytsY"
      }
    },
    {
      "cell_type": "code",
      "source": [
        "from sklearn.datasets import load_wine\n",
        "from sklearn.model_selection import train_test_split\n",
        "from sklearn.preprocessing import StandardScaler\n",
        "import numpy as np\n",
        "\n",
        "# Load the Wine dataset\n",
        "wine = load_wine()\n",
        "X = wine.data\n",
        "y = wine.target\n",
        "\n",
        "# Standardize the features\n",
        "scaler = StandardScaler()\n",
        "X_scaled = scaler.fit_transform(X)\n",
        "\n",
        "# Split the dataset into training and testing sets\n",
        "X_train, X_test, y_train, y_test = train_test_split(X_scaled, y, test_size=0.3, random_state=42)\n"
      ],
      "metadata": {
        "id": "Gf09EOWfysF4"
      },
      "execution_count": 46,
      "outputs": []
    },
    {
      "cell_type": "code",
      "source": [
        "from sklearn import datasets\n",
        "import numpy as np\n",
        "\n",
        "# Load the Wine dataset\n",
        "wine = datasets.load_wine()\n",
        "\n",
        "# Convert to numpy arrays\n",
        "data = np.array(wine.data)\n",
        "target = np.array(wine.target)\n",
        "\n",
        "# Declare training and test data lists\n",
        "X_train = []\n",
        "y_train = []\n",
        "X_test = []\n",
        "y_test = []\n",
        "\n",
        "# Specify the division ratio for training and test sets\n",
        "test_size = 0.4\n",
        "\n",
        "# Determine the last index for the training data\n",
        "data_size = len(data)\n",
        "last_train_index = int(data_size * (1 - test_size))\n",
        "\n",
        "# Divide the data into training and test sets\n",
        "for i in range(data_size):\n",
        "    if i < last_train_index:\n",
        "        X_train.append(data[i])\n",
        "        y_train.append(target[i])\n",
        "    else:\n",
        "        X_test.append(data[i])\n",
        "        y_test.append(target[i])\n",
        "\n",
        "# Convert the lists into numpy arrays\n",
        "X_train = np.array(X_train)\n",
        "X_test = np.array(X_test)\n",
        "y_train = np.array(y_train)\n",
        "y_test = np.array(y_test)\n",
        "\n",
        "print(\"X_train:\", X_train.shape)\n",
        "print(\"X_test:\", X_test.shape)\n",
        "print(\"y_train:\", y_train.shape)\n",
        "print(\"y_test:\", y_test.shape)\n"
      ],
      "metadata": {
        "colab": {
          "base_uri": "https://localhost:8080/"
        },
        "id": "tMJN9cP08VYB",
        "outputId": "3cc07239-194a-4b93-f2f9-25083d5ada2e"
      },
      "execution_count": 47,
      "outputs": [
        {
          "output_type": "stream",
          "name": "stdout",
          "text": [
            "X_train: (106, 13)\n",
            "X_test: (72, 13)\n",
            "y_train: (106,)\n",
            "y_test: (72,)\n"
          ]
        }
      ]
    },
    {
      "cell_type": "code",
      "source": [
        "# Show the header of the wine dataset\n",
        "print(df_wine.head())\n"
      ],
      "metadata": {
        "colab": {
          "base_uri": "https://localhost:8080/"
        },
        "id": "fwAgdDd1pIRb",
        "outputId": "01e2c165-f7f1-41ec-9a51-e047a70018c1"
      },
      "execution_count": 48,
      "outputs": [
        {
          "output_type": "stream",
          "name": "stdout",
          "text": [
            "    alcohol  malic_acid       ash  alcalinity_of_ash  magnesium  \\\n",
            "0  1.518613   -0.562250  0.232053          -1.169593   1.913905   \n",
            "1  0.246290   -0.499413 -0.827996          -2.490847   0.018145   \n",
            "2  0.196879    0.021231  1.109334          -0.268738   0.088358   \n",
            "3  1.691550   -0.346811  0.487926          -0.809251   0.930918   \n",
            "4  0.295700    0.227694  1.840403           0.451946   1.281985   \n",
            "\n",
            "   total_phenols  flavanoids  nonflavanoid_phenols  proanthocyanins  \\\n",
            "0       0.808997    1.034819             -0.659563         1.224884   \n",
            "1       0.568648    0.733629             -0.820719        -0.544721   \n",
            "2       0.808997    1.215533             -0.498407         2.135968   \n",
            "3       2.491446    1.466525             -0.981875         1.032155   \n",
            "4       0.808997    0.663351              0.226796         0.401404   \n",
            "\n",
            "   color_intensity       hue  od280/od315_of_diluted_wines   proline  target  \n",
            "0         0.251717  0.362177                      1.847920  1.013009       0  \n",
            "1        -0.293321  0.406051                      1.113449  0.965242       0  \n",
            "2         0.269020  0.318304                      0.788587  1.395148       0  \n",
            "3         1.186068 -0.427544                      1.184071  2.334574       0  \n",
            "4        -0.319276  0.362177                      0.449601 -0.037874       0  \n"
          ]
        }
      ]
    },
    {
      "cell_type": "markdown",
      "source": [
        "#Custom  kNN  Implementation( k Nearest Neigbour Classification)\n",
        "\n",
        "Asasembling my kNN function\n",
        "\n",
        "\n"
      ],
      "metadata": {
        "id": "Kwh9zaHEsA1Q"
      }
    },
    {
      "cell_type": "code",
      "source": [
        "import numpy as np\n",
        "from collections import Counter\n",
        "from sklearn.metrics import accuracy_score\n",
        "\n",
        "\n",
        "def euclidean_distance(row1, row2):\n",
        "    return np.sqrt(np.sum((np.array(row1) - np.array(row2)) ** 2))\n",
        "\n",
        "def manhattan_distance(row1, row2):\n",
        "    return np.sum(np.abs(np.array(row1) - np.array(row2)))\n",
        "\n",
        "def get_neighbors(X_train, y_train, test_row, num_neighbors, distance_fn):\n",
        "    distances = []\n",
        "    for train_row, label in zip(X_train, y_train):\n",
        "        dist = distance_fn(test_row, train_row)\n",
        "        distances.append((train_row, label, dist))\n",
        "    distances.sort(key=lambda x: x[2])\n",
        "    neighbors = distances[:num_neighbors]\n",
        "    return neighbors\n",
        "\n",
        "def predict_classification(X_train, y_train, test_row, num_neighbors, distance_fn):\n",
        "    neighbors = get_neighbors(X_train, y_train, test_row, num_neighbors, distance_fn)\n",
        "    output_labels = [neighbor[1] for neighbor in neighbors]\n",
        "    prediction = Counter(output_labels).most_common(1)[0][0]\n",
        "    return prediction"
      ],
      "metadata": {
        "id": "aczZADN3ru0n"
      },
      "execution_count": 78,
      "outputs": []
    },
    {
      "cell_type": "markdown",
      "source": [
        "#Evaluating custom kNN classifier"
      ],
      "metadata": {
        "id": "T-000no9zOJ5"
      }
    },
    {
      "cell_type": "code",
      "source": [
        "# Initialize empty prediction lists\n",
        "euclidean_predictions = []\n",
        "manhattan_predictions = []\n",
        "\n",
        "# Loop through each test instance and make predictions\n",
        "for instance in X_test:\n",
        "    euclidean_pred = predict_classification(X_train, y_train, instance, 10, euclidean_distance)\n",
        "    manhattan_pred = predict_classification(X_train, y_train, instance, 10, manhattan_distance)\n",
        "    euclidean_predictions.append(euclidean_pred)\n",
        "    manhattan_predictions.append(manhattan_pred)\n",
        "\n",
        "# Calculate accuracy scores\n",
        "euclidean_accuracy = accuracy_score(y_test, euclidean_predictions)\n",
        "manhattan_accuracy = accuracy_score(y_test, manhattan_predictions)\n",
        "\n",
        "# Print accuracy scores\n",
        "print(f\"Accuracy of custom kNN with Euclidean distance: {euclidean_accuracy*100:.2f}%\")\n",
        "print(f\"Accuracy of custom kNN with Manhattan distance: {manhattan_accuracy*100:.2f}%\")\n",
        "\n"
      ],
      "metadata": {
        "colab": {
          "base_uri": "https://localhost:8080/"
        },
        "id": "SZKxxDrqzJ45",
        "outputId": "2fe7151b-5d8b-486b-e938-5784fad695a0"
      },
      "execution_count": 81,
      "outputs": [
        {
          "output_type": "stream",
          "name": "stdout",
          "text": [
            "Accuracy of custom kNN with Euclidean distance: 33.33%\n",
            "Accuracy of custom kNN with Manhattan distance: 33.33%\n"
          ]
        }
      ]
    },
    {
      "cell_type": "markdown",
      "source": [
        "#Cross Validation of custom kNN"
      ],
      "metadata": {
        "id": "BAg6L-qsP9MF"
      }
    },
    {
      "cell_type": "code",
      "source": [
        "import numpy as np\n",
        "from sklearn.base import BaseEstimator, ClassifierMixin\n",
        "from sklearn.model_selection import cross_val_score\n",
        "\n",
        "class CustomKNN(BaseEstimator, ClassifierMixin):\n",
        "    def __init__(self, num_neighbors, distance_fn):\n",
        "        self.num_neighbors = num_neighbors\n",
        "        self.distance_fn = distance_fn\n",
        "\n",
        "    def fit(self, X_train, y_train):\n",
        "        self.X_train = X_train\n",
        "        self.y_train = y_train\n",
        "\n",
        "    def predict(self, X_test):\n",
        "\n",
        "        predictions = []\n",
        "        for test_row in X_test:\n",
        "            neighbors = get_neighbors(self.X_train, self.y_train, test_row, self.num_neighbors, self.distance_fn)\n",
        "            output_labels = [neighbor[1] for neighbor in neighbors]\n",
        "            prediction = Counter(output_labels).most_common(1)[0][0]\n",
        "            predictions.append(prediction)\n",
        "        return np.array(predictions)  # Convert predictions to a numpy array\n",
        "\n",
        "    def score(self, X_test, y_test):\n",
        "        # Calculate and return accuracy\n",
        "        predictions = self.predict(X_test)\n",
        "        accuracy = np.mean(predictions == y_test)\n",
        "        return accuracy\n",
        "\n",
        "# Specify the number of neighbors and distance function you want to use\n",
        "num_neighbors = 10\n",
        "distance_function = euclidean_distance  # You can also use manhattan_distance\n",
        "\n",
        "# Create an instance of your CustomKNN class with the desired parameters\n",
        "custom_knn_classifier = CustomKNN(num_neighbors, distance_function)\n",
        "\n",
        "# Perform k-fold cross-validation (replace 'cv' with the desired number of folds)\n",
        "from sklearn.model_selection import cross_val_score\n",
        "cv = 5  # You can adjust the number of folds as needed\n",
        "\n",
        "# Assuming X_test and y_test are your test data and labels\n",
        "scores = cross_val_score(custom_knn_classifier, X_train, y_train, cv=cv, scoring='accuracy')\n",
        "\n",
        "# Print the accuracy scores for each fold\n",
        "for fold, score in enumerate(scores, start=1):\n",
        "    print(f\"Fold {fold} Accuracy: {score*100:.2f}%\")\n",
        "\n",
        "# Calculate and print the mean accuracy across all folds\n",
        "mean_accuracy = np.mean(scores) * 100\n",
        "print(f\"Mean Accuracy Across {cv}-Fold Cross-Validation: {mean_accuracy:.2f}%\")\n"
      ],
      "metadata": {
        "colab": {
          "base_uri": "https://localhost:8080/"
        },
        "id": "XeK1_O7CPYIZ",
        "outputId": "ffd94ffe-83ea-48ee-ecb1-57160d49f927"
      },
      "execution_count": 95,
      "outputs": [
        {
          "output_type": "stream",
          "name": "stdout",
          "text": [
            "Fold 1 Accuracy: 90.91%\n",
            "Fold 2 Accuracy: 85.71%\n",
            "Fold 3 Accuracy: 95.24%\n",
            "Fold 4 Accuracy: 85.71%\n",
            "Fold 5 Accuracy: 100.00%\n",
            "Mean Accuracy Across 5-Fold Cross-Validation: 91.52%\n"
          ]
        }
      ]
    },
    {
      "cell_type": "code",
      "source": [
        "print(\"X_train:\", X_train.shape)\n",
        "print(\"X_test:\", X_test.shape)\n",
        "print(\"y_train:\", y_train.shape)\n",
        "print(\"y_test:\", y_test.shape)\n",
        "\n",
        "# Print some sample predictions\n",
        "print(\"Sample predictions with Euclidean distance:\", euclidean_predictions[:10])\n",
        "print(\"Sample predictions with Manhattan distance:\", manhattan_predictions[:10])\n",
        "\n",
        "# Check the unique values in y_test\n",
        "unique_labels = np.unique(y_test)\n",
        "print(\"Unique labels in y_test:\", unique_labels)\n"
      ],
      "metadata": {
        "colab": {
          "base_uri": "https://localhost:8080/"
        },
        "id": "l67W-rjBF97q",
        "outputId": "ea9d88da-9d5a-408e-9f7d-8985f417594c"
      },
      "execution_count": 77,
      "outputs": [
        {
          "output_type": "stream",
          "name": "stdout",
          "text": [
            "X_train: (106, 13)\n",
            "X_test: (72, 13)\n",
            "y_train: (106,)\n",
            "y_test: (72,)\n",
            "Sample predictions with Euclidean distance: [1, 1, 1, 1, 1, 1, 1, 1, 1, 1]\n",
            "Sample predictions with Manhattan distance: [1, 1, 1, 1, 1, 1, 1, 1, 1, 1]\n",
            "Unique labels in y_test: [1 2]\n"
          ]
        }
      ]
    },
    {
      "cell_type": "code",
      "source": [
        "import numpy as np\n",
        "\n",
        "# Identify the missing label\n",
        "missing_label = 0\n",
        "\n",
        "# Find the unique labels in y_test\n",
        "unique_labels_test = np.unique(y_test)\n",
        "\n",
        "# Check if the missing label is not in unique_labels_test\n",
        "if missing_label not in unique_labels_test:\n",
        "    # Add the missing label to y_test\n",
        "    y_test = np.insert(y_test, 0, missing_label)\n"
      ],
      "metadata": {
        "id": "EpeuRTZzGVHy"
      },
      "execution_count": 71,
      "outputs": []
    },
    {
      "cell_type": "markdown",
      "source": [
        "\n",
        "This code will evaluate the performance of your custom kNN classifier using both Euclidean and Manhattan distances. It iterates over each instance in the test set, predicts the class label using the kNN classifier, and then calculates the accuracy of these predictions against the actual labels.\n",
        "\n",
        "### 4. Comparative Analysis\n",
        "\n",
        "After evaluating the kNN classifier, it's insightful to compare its performance with other standard classifiers from sklearn. This will give you a better understanding\n",
        "of how your custom kNN implementation fares against well-established algorithms. Let's use a couple of sklearn classifiers for this comparison."
      ],
      "metadata": {
        "id": "XwHTk44_0KCZ"
      }
    },
    {
      "cell_type": "code",
      "source": [
        "from sklearn.ensemble import RandomForestClassifier\n",
        "\n",
        "# Initialize and train the RandomForest Classifier\n",
        "rf_model = RandomForestClassifier(random_state=42)\n",
        "rf_model.fit(X_train, y_train)\n",
        "\n",
        "# Evaluate on training data\n",
        "rf_train_accuracy = rf_model.score(X_train, y_train)\n",
        "\n",
        "# Evaluate on test data\n",
        "rf_test_accuracy = rf_model.score(X_test, y_test)\n",
        "\n",
        "# Print accuracies\n",
        "print(f\"RandomForest Training Accuracy: {rf_train_accuracy*100:.2f}%\")\n",
        "print(f\"RandomForest Test Accuracy: {rf_test_accuracy*100:.2f}%\")\n"
      ],
      "metadata": {
        "colab": {
          "base_uri": "https://localhost:8080/"
        },
        "id": "yfEJFG7i0W71",
        "outputId": "cf7041f7-da86-4ed5-de74-49dca30848ac"
      },
      "execution_count": 51,
      "outputs": [
        {
          "output_type": "stream",
          "name": "stdout",
          "text": [
            "RandomForest Training Accuracy: 100.00%\n",
            "RandomForest Test Accuracy: 33.33%\n"
          ]
        }
      ]
    },
    {
      "cell_type": "code",
      "source": [
        "\n",
        "### Decision Tree Classifier\n",
        "from sklearn.tree import DecisionTreeClassifier\n",
        "\n",
        "# Initialize and train the Decision Tree Classifier\n",
        "decision_tree_classifier = DecisionTreeClassifier(random_state=42)\n",
        "decision_tree_classifier.fit(X_train, y_train)\n",
        "\n",
        "# Evaluate on training data\n",
        "decision_tree_train_accuracy = decision_tree_classifier.score(X_train, y_train)\n",
        "\n",
        "# Evaluate on test data\n",
        "decision_tree_test_accuracy = decision_tree_classifier.score(X_test, y_test)\n",
        "\n",
        "# Print accuracies\n",
        "print(f\"Decision Tree Training Accuracy: {decision_tree_train_accuracy*100:.2f}%\")\n",
        "print(f\"Decision Tree Test Accuracy: {decision_tree_test_accuracy*100:.2f}%\")\n"
      ],
      "metadata": {
        "colab": {
          "base_uri": "https://localhost:8080/"
        },
        "id": "raTySL7D1LOz",
        "outputId": "9bafbc7a-bb20-4ad4-9ecc-ac6cdb286bf7"
      },
      "execution_count": 52,
      "outputs": [
        {
          "output_type": "stream",
          "name": "stdout",
          "text": [
            "Decision Tree Training Accuracy: 100.00%\n",
            "Decision Tree Test Accuracy: 25.00%\n"
          ]
        }
      ]
    },
    {
      "cell_type": "code",
      "source": [
        "from sklearn.svm import SVC\n",
        "from sklearn.metrics import accuracy_score\n",
        "\n",
        "# Initialize and train the SVM Classifier with OVR\n",
        "svm_ovr_clf = SVC(decision_function_shape='ovr', random_state=42)\n",
        "svm_ovr_clf.fit(X_train, y_train)\n",
        "\n",
        "# Evaluate on training data\n",
        "svm_ovr_train_accuracy = svm_ovr_clf.score(X_train, y_train)\n",
        "\n",
        "# Evaluate on test data\n",
        "svm_ovr_test_accuracy = svm_ovr_clf.score(X_test, y_test)\n",
        "print(f\"SVM with OVR Training Accuracy: {svm_ovr_train_accuracy*100:.2f}%\")\n",
        "print(f\"SVM with OVR Test Accuracy: {svm_ovr_test_accuracy*100:.2f}%\")\n",
        "\n",
        "# Initialize and train the SVM Classifier with OVO\n",
        "svm_ovo_clf = SVC(decision_function_shape='ovo', random_state=42)\n",
        "svm_ovo_clf.fit(X_train, y_train)\n",
        "\n",
        "# Evaluate on training data\n",
        "svm_ovo_train_accuracy = svm_ovo_clf.score(X_train, y_train)\n",
        "\n",
        "# Evaluate on test data\n",
        "svm_ovo_test_accuracy = svm_ovo_clf.score(X_test, y_test)\n",
        "print(f\"SVM with OVO Training Accuracy: {svm_ovo_train_accuracy*100:.2f}%\")\n",
        "print(f\"SVM with OVO Test Accuracy: {svm_ovo_test_accuracy*100:.2f}%\")\n"
      ],
      "metadata": {
        "colab": {
          "base_uri": "https://localhost:8080/"
        },
        "id": "dN4NDu4a8AMA",
        "outputId": "57fa108a-2d38-4652-e663-f9aca5da4dbd"
      },
      "execution_count": 53,
      "outputs": [
        {
          "output_type": "stream",
          "name": "stdout",
          "text": [
            "SVM with OVR Training Accuracy: 90.57%\n",
            "SVM with OVR Test Accuracy: 33.33%\n",
            "SVM with OVO Training Accuracy: 90.57%\n",
            "SVM with OVO Test Accuracy: 33.33%\n"
          ]
        }
      ]
    },
    {
      "cell_type": "markdown",
      "source": [
        "#The Best Classifier Method for Wine Dataset"
      ],
      "metadata": {
        "id": "uAph2Ai4JwQJ"
      }
    },
    {
      "cell_type": "code",
      "source": [
        "# Import necessary libraries\n",
        "import numpy as np\n",
        "from sklearn.ensemble import RandomForestClassifier\n",
        "from sklearn.tree import DecisionTreeClassifier\n",
        "from sklearn.svm import SVC\n",
        "from sklearn.metrics import accuracy_score\n",
        "import plotly.graph_objs as go\n",
        "\n",
        "# Define the custom k-NN classifier function (already provided in your code)\n",
        "\n",
        "# Evaluate the custom k-NN classifier\n",
        "euclidean_predictions = []\n",
        "manhattan_predictions = []\n",
        "\n",
        "for instance in X_test:\n",
        "    euclidean_pred = predict_classification(X_train, y_train, instance, 10, euclidean_distance)\n",
        "    manhattan_pred = predict_classification(X_train, y_train, instance, 10, manhattan_distance)\n",
        "    euclidean_predictions.append(euclidean_pred)\n",
        "    manhattan_predictions.append(manhattan_pred)\n",
        "\n",
        "kn_acc_train = accuracy_score(y_test, euclidean_predictions)\n",
        "kn_acc_test = accuracy_score(y_test, euclidean_predictions)\n",
        "\n",
        "# Initialize and train the RandomForest Classifier\n",
        "rf_model = RandomForestClassifier(random_state=42)\n",
        "rf_model.fit(X_train, y_train)\n",
        "\n",
        "# Evaluate the RandomForest Classifier\n",
        "rf_acc_train = rf_model.score(X_train, y_train)\n",
        "rf_acc_test = rf_model.score(X_test, y_test)\n",
        "\n",
        "# Initialize and train the Decision Tree Classifier\n",
        "decision_tree_classifier = DecisionTreeClassifier(random_state=42)\n",
        "decision_tree_classifier.fit(X_train, y_train)\n",
        "\n",
        "# Evaluate the Decision Tree Classifier\n",
        "tree_acc_train = decision_tree_classifier.score(X_train, y_train)\n",
        "tree_acc_test = decision_tree_classifier.score(X_test, y_test)\n",
        "\n",
        "# Initialize and train the SVM Classifier with OVR\n",
        "svm_ovr_clf = SVC(decision_function_shape='ovr', random_state=42)\n",
        "svm_ovr_clf.fit(X_train, y_train)\n",
        "\n",
        "# Evaluate the SVM Classifier with OVR\n",
        "svm_acc_train = svm_ovr_clf.score(X_train, y_train)\n",
        "svm_acc_test = svm_ovr_clf.score(X_test, y_test)\n",
        "\n",
        "# Initialize and train the SVM Classifier with OVO\n",
        "svm_ovo_clf = SVC(decision_function_shape='ovo', random_state=42)\n",
        "svm_ovo_clf.fit(X_train, y_train)\n",
        "\n",
        "# Evaluate the SVM Classifier with OVO\n",
        "svm_ovo_acc_train = svm_ovo_clf.score(X_train, y_train)\n",
        "svm_ovo_acc_test = svm_ovo_clf.score(X_test, y_test)\n",
        "\n",
        "# Prepare the resources for visualization\n",
        "methods = ['DecisionTree', 'RandomForest', 'SupportVector (ovr)', 'SupportVector (ovo)', 'KNeighbors']\n",
        "acc_test = np.array([tree_acc_test, rf_acc_test, svm_acc_test, svm_ovo_acc_test, kn_acc_test])\n",
        "acc_train = np.array([tree_acc_train, rf_acc_train, svm_acc_train, svm_ovo_acc_train, kn_acc_train])\n",
        "\n",
        "# Create a dictionary to store accuracy scores for each method\n",
        "acc_mth = dict(zip(methods, acc_test))\n",
        "acc_max = np.argmax(acc_test)\n",
        "acc_min = np.argmin(acc_test)\n",
        "\n",
        "# Print the accuracy scores for the classifiers\n",
        "for acc in acc_mth:\n",
        "    print('%s : %.2f%%' % (acc, acc_mth[acc] * 100))\n",
        "\n",
        "# Draw the accuracy scores for both training and test data for each classifier\n",
        "trace_test = go.Bar(x=methods, y=acc_test, name='test', text=acc_test, marker_color='rosybrown')\n",
        "trace_train = go.Bar(x=methods, y=acc_train, name='train', text=acc_train, marker_color='slateblue')\n",
        "fig = go.Figure(data=[trace_train, trace_test])\n",
        "fig.update_layout(yaxis_range=[0, 1])\n",
        "fig.update_traces(texttemplate='%{text:.2%}', textposition='inside')\n",
        "fig.show()\n",
        "\n",
        "# Determine the best and worst classifiers\n",
        "print('The best classifier for this problem is %s (%.2f%%)' % (methods[acc_max], acc_test[acc_max] * 100))\n",
        "print('The worst classifier for this problem is %s (%.2f%%)' % (methods[acc_min], acc_test[acc_min] * 100))\n"
      ],
      "metadata": {
        "colab": {
          "base_uri": "https://localhost:8080/",
          "height": 671
        },
        "id": "8k0Vew4BI3_F",
        "outputId": "72ac040e-9afe-4b0e-d569-c9e9d4bcbf7f"
      },
      "execution_count": 86,
      "outputs": [
        {
          "output_type": "stream",
          "name": "stdout",
          "text": [
            "DecisionTree : 25.00%\n",
            "RandomForest : 33.33%\n",
            "SupportVector (ovr) : 33.33%\n",
            "SupportVector (ovo) : 33.33%\n",
            "KNeighbors : 33.33%\n"
          ]
        },
        {
          "output_type": "display_data",
          "data": {
            "text/html": [
              "<html>\n",
              "<head><meta charset=\"utf-8\" /></head>\n",
              "<body>\n",
              "    <div>            <script src=\"https://cdnjs.cloudflare.com/ajax/libs/mathjax/2.7.5/MathJax.js?config=TeX-AMS-MML_SVG\"></script><script type=\"text/javascript\">if (window.MathJax && window.MathJax.Hub && window.MathJax.Hub.Config) {window.MathJax.Hub.Config({SVG: {font: \"STIX-Web\"}});}</script>                <script type=\"text/javascript\">window.PlotlyConfig = {MathJaxConfig: 'local'};</script>\n",
              "        <script charset=\"utf-8\" src=\"https://cdn.plot.ly/plotly-2.24.1.min.js\"></script>                <div id=\"a2be2763-b9dc-40c8-a937-4a364e89877b\" class=\"plotly-graph-div\" style=\"height:525px; width:100%;\"></div>            <script type=\"text/javascript\">                                    window.PLOTLYENV=window.PLOTLYENV || {};                                    if (document.getElementById(\"a2be2763-b9dc-40c8-a937-4a364e89877b\")) {                    Plotly.newPlot(                        \"a2be2763-b9dc-40c8-a937-4a364e89877b\",                        [{\"marker\":{\"color\":\"slateblue\"},\"name\":\"train\",\"text\":[1.0,1.0,0.9056603773584906,0.9056603773584906,0.3333333333333333],\"x\":[\"DecisionTree\",\"RandomForest\",\"SupportVector (ovr)\",\"SupportVector (ovo)\",\"KNeighbors\"],\"y\":[1.0,1.0,0.9056603773584906,0.9056603773584906,0.3333333333333333],\"type\":\"bar\",\"textposition\":\"inside\",\"texttemplate\":\"%{text:.2%}\"},{\"marker\":{\"color\":\"rosybrown\"},\"name\":\"test\",\"text\":[0.25,0.3333333333333333,0.3333333333333333,0.3333333333333333,0.3333333333333333],\"x\":[\"DecisionTree\",\"RandomForest\",\"SupportVector (ovr)\",\"SupportVector (ovo)\",\"KNeighbors\"],\"y\":[0.25,0.3333333333333333,0.3333333333333333,0.3333333333333333,0.3333333333333333],\"type\":\"bar\",\"textposition\":\"inside\",\"texttemplate\":\"%{text:.2%}\"}],                        {\"template\":{\"data\":{\"histogram2dcontour\":[{\"type\":\"histogram2dcontour\",\"colorbar\":{\"outlinewidth\":0,\"ticks\":\"\"},\"colorscale\":[[0.0,\"#0d0887\"],[0.1111111111111111,\"#46039f\"],[0.2222222222222222,\"#7201a8\"],[0.3333333333333333,\"#9c179e\"],[0.4444444444444444,\"#bd3786\"],[0.5555555555555556,\"#d8576b\"],[0.6666666666666666,\"#ed7953\"],[0.7777777777777778,\"#fb9f3a\"],[0.8888888888888888,\"#fdca26\"],[1.0,\"#f0f921\"]]}],\"choropleth\":[{\"type\":\"choropleth\",\"colorbar\":{\"outlinewidth\":0,\"ticks\":\"\"}}],\"histogram2d\":[{\"type\":\"histogram2d\",\"colorbar\":{\"outlinewidth\":0,\"ticks\":\"\"},\"colorscale\":[[0.0,\"#0d0887\"],[0.1111111111111111,\"#46039f\"],[0.2222222222222222,\"#7201a8\"],[0.3333333333333333,\"#9c179e\"],[0.4444444444444444,\"#bd3786\"],[0.5555555555555556,\"#d8576b\"],[0.6666666666666666,\"#ed7953\"],[0.7777777777777778,\"#fb9f3a\"],[0.8888888888888888,\"#fdca26\"],[1.0,\"#f0f921\"]]}],\"heatmap\":[{\"type\":\"heatmap\",\"colorbar\":{\"outlinewidth\":0,\"ticks\":\"\"},\"colorscale\":[[0.0,\"#0d0887\"],[0.1111111111111111,\"#46039f\"],[0.2222222222222222,\"#7201a8\"],[0.3333333333333333,\"#9c179e\"],[0.4444444444444444,\"#bd3786\"],[0.5555555555555556,\"#d8576b\"],[0.6666666666666666,\"#ed7953\"],[0.7777777777777778,\"#fb9f3a\"],[0.8888888888888888,\"#fdca26\"],[1.0,\"#f0f921\"]]}],\"heatmapgl\":[{\"type\":\"heatmapgl\",\"colorbar\":{\"outlinewidth\":0,\"ticks\":\"\"},\"colorscale\":[[0.0,\"#0d0887\"],[0.1111111111111111,\"#46039f\"],[0.2222222222222222,\"#7201a8\"],[0.3333333333333333,\"#9c179e\"],[0.4444444444444444,\"#bd3786\"],[0.5555555555555556,\"#d8576b\"],[0.6666666666666666,\"#ed7953\"],[0.7777777777777778,\"#fb9f3a\"],[0.8888888888888888,\"#fdca26\"],[1.0,\"#f0f921\"]]}],\"contourcarpet\":[{\"type\":\"contourcarpet\",\"colorbar\":{\"outlinewidth\":0,\"ticks\":\"\"}}],\"contour\":[{\"type\":\"contour\",\"colorbar\":{\"outlinewidth\":0,\"ticks\":\"\"},\"colorscale\":[[0.0,\"#0d0887\"],[0.1111111111111111,\"#46039f\"],[0.2222222222222222,\"#7201a8\"],[0.3333333333333333,\"#9c179e\"],[0.4444444444444444,\"#bd3786\"],[0.5555555555555556,\"#d8576b\"],[0.6666666666666666,\"#ed7953\"],[0.7777777777777778,\"#fb9f3a\"],[0.8888888888888888,\"#fdca26\"],[1.0,\"#f0f921\"]]}],\"surface\":[{\"type\":\"surface\",\"colorbar\":{\"outlinewidth\":0,\"ticks\":\"\"},\"colorscale\":[[0.0,\"#0d0887\"],[0.1111111111111111,\"#46039f\"],[0.2222222222222222,\"#7201a8\"],[0.3333333333333333,\"#9c179e\"],[0.4444444444444444,\"#bd3786\"],[0.5555555555555556,\"#d8576b\"],[0.6666666666666666,\"#ed7953\"],[0.7777777777777778,\"#fb9f3a\"],[0.8888888888888888,\"#fdca26\"],[1.0,\"#f0f921\"]]}],\"mesh3d\":[{\"type\":\"mesh3d\",\"colorbar\":{\"outlinewidth\":0,\"ticks\":\"\"}}],\"scatter\":[{\"fillpattern\":{\"fillmode\":\"overlay\",\"size\":10,\"solidity\":0.2},\"type\":\"scatter\"}],\"parcoords\":[{\"type\":\"parcoords\",\"line\":{\"colorbar\":{\"outlinewidth\":0,\"ticks\":\"\"}}}],\"scatterpolargl\":[{\"type\":\"scatterpolargl\",\"marker\":{\"colorbar\":{\"outlinewidth\":0,\"ticks\":\"\"}}}],\"bar\":[{\"error_x\":{\"color\":\"#2a3f5f\"},\"error_y\":{\"color\":\"#2a3f5f\"},\"marker\":{\"line\":{\"color\":\"#E5ECF6\",\"width\":0.5},\"pattern\":{\"fillmode\":\"overlay\",\"size\":10,\"solidity\":0.2}},\"type\":\"bar\"}],\"scattergeo\":[{\"type\":\"scattergeo\",\"marker\":{\"colorbar\":{\"outlinewidth\":0,\"ticks\":\"\"}}}],\"scatterpolar\":[{\"type\":\"scatterpolar\",\"marker\":{\"colorbar\":{\"outlinewidth\":0,\"ticks\":\"\"}}}],\"histogram\":[{\"marker\":{\"pattern\":{\"fillmode\":\"overlay\",\"size\":10,\"solidity\":0.2}},\"type\":\"histogram\"}],\"scattergl\":[{\"type\":\"scattergl\",\"marker\":{\"colorbar\":{\"outlinewidth\":0,\"ticks\":\"\"}}}],\"scatter3d\":[{\"type\":\"scatter3d\",\"line\":{\"colorbar\":{\"outlinewidth\":0,\"ticks\":\"\"}},\"marker\":{\"colorbar\":{\"outlinewidth\":0,\"ticks\":\"\"}}}],\"scattermapbox\":[{\"type\":\"scattermapbox\",\"marker\":{\"colorbar\":{\"outlinewidth\":0,\"ticks\":\"\"}}}],\"scatterternary\":[{\"type\":\"scatterternary\",\"marker\":{\"colorbar\":{\"outlinewidth\":0,\"ticks\":\"\"}}}],\"scattercarpet\":[{\"type\":\"scattercarpet\",\"marker\":{\"colorbar\":{\"outlinewidth\":0,\"ticks\":\"\"}}}],\"carpet\":[{\"aaxis\":{\"endlinecolor\":\"#2a3f5f\",\"gridcolor\":\"white\",\"linecolor\":\"white\",\"minorgridcolor\":\"white\",\"startlinecolor\":\"#2a3f5f\"},\"baxis\":{\"endlinecolor\":\"#2a3f5f\",\"gridcolor\":\"white\",\"linecolor\":\"white\",\"minorgridcolor\":\"white\",\"startlinecolor\":\"#2a3f5f\"},\"type\":\"carpet\"}],\"table\":[{\"cells\":{\"fill\":{\"color\":\"#EBF0F8\"},\"line\":{\"color\":\"white\"}},\"header\":{\"fill\":{\"color\":\"#C8D4E3\"},\"line\":{\"color\":\"white\"}},\"type\":\"table\"}],\"barpolar\":[{\"marker\":{\"line\":{\"color\":\"#E5ECF6\",\"width\":0.5},\"pattern\":{\"fillmode\":\"overlay\",\"size\":10,\"solidity\":0.2}},\"type\":\"barpolar\"}],\"pie\":[{\"automargin\":true,\"type\":\"pie\"}]},\"layout\":{\"autotypenumbers\":\"strict\",\"colorway\":[\"#636efa\",\"#EF553B\",\"#00cc96\",\"#ab63fa\",\"#FFA15A\",\"#19d3f3\",\"#FF6692\",\"#B6E880\",\"#FF97FF\",\"#FECB52\"],\"font\":{\"color\":\"#2a3f5f\"},\"hovermode\":\"closest\",\"hoverlabel\":{\"align\":\"left\"},\"paper_bgcolor\":\"white\",\"plot_bgcolor\":\"#E5ECF6\",\"polar\":{\"bgcolor\":\"#E5ECF6\",\"angularaxis\":{\"gridcolor\":\"white\",\"linecolor\":\"white\",\"ticks\":\"\"},\"radialaxis\":{\"gridcolor\":\"white\",\"linecolor\":\"white\",\"ticks\":\"\"}},\"ternary\":{\"bgcolor\":\"#E5ECF6\",\"aaxis\":{\"gridcolor\":\"white\",\"linecolor\":\"white\",\"ticks\":\"\"},\"baxis\":{\"gridcolor\":\"white\",\"linecolor\":\"white\",\"ticks\":\"\"},\"caxis\":{\"gridcolor\":\"white\",\"linecolor\":\"white\",\"ticks\":\"\"}},\"coloraxis\":{\"colorbar\":{\"outlinewidth\":0,\"ticks\":\"\"}},\"colorscale\":{\"sequential\":[[0.0,\"#0d0887\"],[0.1111111111111111,\"#46039f\"],[0.2222222222222222,\"#7201a8\"],[0.3333333333333333,\"#9c179e\"],[0.4444444444444444,\"#bd3786\"],[0.5555555555555556,\"#d8576b\"],[0.6666666666666666,\"#ed7953\"],[0.7777777777777778,\"#fb9f3a\"],[0.8888888888888888,\"#fdca26\"],[1.0,\"#f0f921\"]],\"sequentialminus\":[[0.0,\"#0d0887\"],[0.1111111111111111,\"#46039f\"],[0.2222222222222222,\"#7201a8\"],[0.3333333333333333,\"#9c179e\"],[0.4444444444444444,\"#bd3786\"],[0.5555555555555556,\"#d8576b\"],[0.6666666666666666,\"#ed7953\"],[0.7777777777777778,\"#fb9f3a\"],[0.8888888888888888,\"#fdca26\"],[1.0,\"#f0f921\"]],\"diverging\":[[0,\"#8e0152\"],[0.1,\"#c51b7d\"],[0.2,\"#de77ae\"],[0.3,\"#f1b6da\"],[0.4,\"#fde0ef\"],[0.5,\"#f7f7f7\"],[0.6,\"#e6f5d0\"],[0.7,\"#b8e186\"],[0.8,\"#7fbc41\"],[0.9,\"#4d9221\"],[1,\"#276419\"]]},\"xaxis\":{\"gridcolor\":\"white\",\"linecolor\":\"white\",\"ticks\":\"\",\"title\":{\"standoff\":15},\"zerolinecolor\":\"white\",\"automargin\":true,\"zerolinewidth\":2},\"yaxis\":{\"gridcolor\":\"white\",\"linecolor\":\"white\",\"ticks\":\"\",\"title\":{\"standoff\":15},\"zerolinecolor\":\"white\",\"automargin\":true,\"zerolinewidth\":2},\"scene\":{\"xaxis\":{\"backgroundcolor\":\"#E5ECF6\",\"gridcolor\":\"white\",\"linecolor\":\"white\",\"showbackground\":true,\"ticks\":\"\",\"zerolinecolor\":\"white\",\"gridwidth\":2},\"yaxis\":{\"backgroundcolor\":\"#E5ECF6\",\"gridcolor\":\"white\",\"linecolor\":\"white\",\"showbackground\":true,\"ticks\":\"\",\"zerolinecolor\":\"white\",\"gridwidth\":2},\"zaxis\":{\"backgroundcolor\":\"#E5ECF6\",\"gridcolor\":\"white\",\"linecolor\":\"white\",\"showbackground\":true,\"ticks\":\"\",\"zerolinecolor\":\"white\",\"gridwidth\":2}},\"shapedefaults\":{\"line\":{\"color\":\"#2a3f5f\"}},\"annotationdefaults\":{\"arrowcolor\":\"#2a3f5f\",\"arrowhead\":0,\"arrowwidth\":1},\"geo\":{\"bgcolor\":\"white\",\"landcolor\":\"#E5ECF6\",\"subunitcolor\":\"white\",\"showland\":true,\"showlakes\":true,\"lakecolor\":\"white\"},\"title\":{\"x\":0.05},\"mapbox\":{\"style\":\"light\"}}},\"yaxis\":{\"range\":[0,1]}},                        {\"responsive\": true}                    ).then(function(){\n",
              "                            \n",
              "var gd = document.getElementById('a2be2763-b9dc-40c8-a937-4a364e89877b');\n",
              "var x = new MutationObserver(function (mutations, observer) {{\n",
              "        var display = window.getComputedStyle(gd).display;\n",
              "        if (!display || display === 'none') {{\n",
              "            console.log([gd, 'removed!']);\n",
              "            Plotly.purge(gd);\n",
              "            observer.disconnect();\n",
              "        }}\n",
              "}});\n",
              "\n",
              "// Listen for the removal of the full notebook cells\n",
              "var notebookContainer = gd.closest('#notebook-container');\n",
              "if (notebookContainer) {{\n",
              "    x.observe(notebookContainer, {childList: true});\n",
              "}}\n",
              "\n",
              "// Listen for the clearing of the current output cell\n",
              "var outputEl = gd.closest('.output');\n",
              "if (outputEl) {{\n",
              "    x.observe(outputEl, {childList: true});\n",
              "}}\n",
              "\n",
              "                        })                };                            </script>        </div>\n",
              "</body>\n",
              "</html>"
            ]
          },
          "metadata": {}
        },
        {
          "output_type": "stream",
          "name": "stdout",
          "text": [
            "The best classifier for this problem is RandomForest (33.33%)\n",
            "The worst classifier for this problem is DecisionTree (25.00%)\n"
          ]
        }
      ]
    },
    {
      "cell_type": "code",
      "source": [
        "import pandas as pd\n",
        "\n",
        "# Create a DataFrame to organize the results\n",
        "results_data = {\n",
        "    \"Classifier\": [\"Custom kNN (Euclidean)\", \"Custom kNN (Manhattan)\", \"Decision Tree\", \"SVM (ovr)\", \"SVM (ovo)\", \"Random Forest\"],\n",
        "    \"Training Accuracy\": [0.9152, 1.0, 1.0, 0.9057, 0.9057, 1.0],\n",
        "    \"Testing Accuracy\": [0.3333, 0.3333, 0.25, 0.3333, 0.3333, 0.3333]\n",
        "}\n",
        "\n",
        "results_df = pd.DataFrame(results_data)\n",
        "\n",
        "# Display the results table\n",
        "results_df\n"
      ],
      "metadata": {
        "colab": {
          "base_uri": "https://localhost:8080/",
          "height": 237
        },
        "id": "ECudqL3KTEQ6",
        "outputId": "608cd5fc-dab1-413f-bace-b5662546f463"
      },
      "execution_count": 99,
      "outputs": [
        {
          "output_type": "execute_result",
          "data": {
            "text/plain": [
              "               Classifier  Training Accuracy  Testing Accuracy\n",
              "0  Custom kNN (Euclidean)             0.9152            0.3333\n",
              "1  Custom kNN (Manhattan)             1.0000            0.3333\n",
              "2           Decision Tree             1.0000            0.2500\n",
              "3               SVM (ovr)             0.9057            0.3333\n",
              "4               SVM (ovo)             0.9057            0.3333\n",
              "5           Random Forest             1.0000            0.3333"
            ],
            "text/html": [
              "\n",
              "  <div id=\"df-ac0108d4-507b-4ed4-a19e-f63996811981\" class=\"colab-df-container\">\n",
              "    <div>\n",
              "<style scoped>\n",
              "    .dataframe tbody tr th:only-of-type {\n",
              "        vertical-align: middle;\n",
              "    }\n",
              "\n",
              "    .dataframe tbody tr th {\n",
              "        vertical-align: top;\n",
              "    }\n",
              "\n",
              "    .dataframe thead th {\n",
              "        text-align: right;\n",
              "    }\n",
              "</style>\n",
              "<table border=\"1\" class=\"dataframe\">\n",
              "  <thead>\n",
              "    <tr style=\"text-align: right;\">\n",
              "      <th></th>\n",
              "      <th>Classifier</th>\n",
              "      <th>Training Accuracy</th>\n",
              "      <th>Testing Accuracy</th>\n",
              "    </tr>\n",
              "  </thead>\n",
              "  <tbody>\n",
              "    <tr>\n",
              "      <th>0</th>\n",
              "      <td>Custom kNN (Euclidean)</td>\n",
              "      <td>0.9152</td>\n",
              "      <td>0.3333</td>\n",
              "    </tr>\n",
              "    <tr>\n",
              "      <th>1</th>\n",
              "      <td>Custom kNN (Manhattan)</td>\n",
              "      <td>1.0000</td>\n",
              "      <td>0.3333</td>\n",
              "    </tr>\n",
              "    <tr>\n",
              "      <th>2</th>\n",
              "      <td>Decision Tree</td>\n",
              "      <td>1.0000</td>\n",
              "      <td>0.2500</td>\n",
              "    </tr>\n",
              "    <tr>\n",
              "      <th>3</th>\n",
              "      <td>SVM (ovr)</td>\n",
              "      <td>0.9057</td>\n",
              "      <td>0.3333</td>\n",
              "    </tr>\n",
              "    <tr>\n",
              "      <th>4</th>\n",
              "      <td>SVM (ovo)</td>\n",
              "      <td>0.9057</td>\n",
              "      <td>0.3333</td>\n",
              "    </tr>\n",
              "    <tr>\n",
              "      <th>5</th>\n",
              "      <td>Random Forest</td>\n",
              "      <td>1.0000</td>\n",
              "      <td>0.3333</td>\n",
              "    </tr>\n",
              "  </tbody>\n",
              "</table>\n",
              "</div>\n",
              "    <div class=\"colab-df-buttons\">\n",
              "\n",
              "  <div class=\"colab-df-container\">\n",
              "    <button class=\"colab-df-convert\" onclick=\"convertToInteractive('df-ac0108d4-507b-4ed4-a19e-f63996811981')\"\n",
              "            title=\"Convert this dataframe to an interactive table.\"\n",
              "            style=\"display:none;\">\n",
              "\n",
              "  <svg xmlns=\"http://www.w3.org/2000/svg\" height=\"24px\" viewBox=\"0 -960 960 960\">\n",
              "    <path d=\"M120-120v-720h720v720H120Zm60-500h600v-160H180v160Zm220 220h160v-160H400v160Zm0 220h160v-160H400v160ZM180-400h160v-160H180v160Zm440 0h160v-160H620v160ZM180-180h160v-160H180v160Zm440 0h160v-160H620v160Z\"/>\n",
              "  </svg>\n",
              "    </button>\n",
              "\n",
              "  <style>\n",
              "    .colab-df-container {\n",
              "      display:flex;\n",
              "      gap: 12px;\n",
              "    }\n",
              "\n",
              "    .colab-df-convert {\n",
              "      background-color: #E8F0FE;\n",
              "      border: none;\n",
              "      border-radius: 50%;\n",
              "      cursor: pointer;\n",
              "      display: none;\n",
              "      fill: #1967D2;\n",
              "      height: 32px;\n",
              "      padding: 0 0 0 0;\n",
              "      width: 32px;\n",
              "    }\n",
              "\n",
              "    .colab-df-convert:hover {\n",
              "      background-color: #E2EBFA;\n",
              "      box-shadow: 0px 1px 2px rgba(60, 64, 67, 0.3), 0px 1px 3px 1px rgba(60, 64, 67, 0.15);\n",
              "      fill: #174EA6;\n",
              "    }\n",
              "\n",
              "    .colab-df-buttons div {\n",
              "      margin-bottom: 4px;\n",
              "    }\n",
              "\n",
              "    [theme=dark] .colab-df-convert {\n",
              "      background-color: #3B4455;\n",
              "      fill: #D2E3FC;\n",
              "    }\n",
              "\n",
              "    [theme=dark] .colab-df-convert:hover {\n",
              "      background-color: #434B5C;\n",
              "      box-shadow: 0px 1px 3px 1px rgba(0, 0, 0, 0.15);\n",
              "      filter: drop-shadow(0px 1px 2px rgba(0, 0, 0, 0.3));\n",
              "      fill: #FFFFFF;\n",
              "    }\n",
              "  </style>\n",
              "\n",
              "    <script>\n",
              "      const buttonEl =\n",
              "        document.querySelector('#df-ac0108d4-507b-4ed4-a19e-f63996811981 button.colab-df-convert');\n",
              "      buttonEl.style.display =\n",
              "        google.colab.kernel.accessAllowed ? 'block' : 'none';\n",
              "\n",
              "      async function convertToInteractive(key) {\n",
              "        const element = document.querySelector('#df-ac0108d4-507b-4ed4-a19e-f63996811981');\n",
              "        const dataTable =\n",
              "          await google.colab.kernel.invokeFunction('convertToInteractive',\n",
              "                                                    [key], {});\n",
              "        if (!dataTable) return;\n",
              "\n",
              "        const docLinkHtml = 'Like what you see? Visit the ' +\n",
              "          '<a target=\"_blank\" href=https://colab.research.google.com/notebooks/data_table.ipynb>data table notebook</a>'\n",
              "          + ' to learn more about interactive tables.';\n",
              "        element.innerHTML = '';\n",
              "        dataTable['output_type'] = 'display_data';\n",
              "        await google.colab.output.renderOutput(dataTable, element);\n",
              "        const docLink = document.createElement('div');\n",
              "        docLink.innerHTML = docLinkHtml;\n",
              "        element.appendChild(docLink);\n",
              "      }\n",
              "    </script>\n",
              "  </div>\n",
              "\n",
              "\n",
              "<div id=\"df-5fd2ea53-e560-4b3b-bd35-e4165ff442f7\">\n",
              "  <button class=\"colab-df-quickchart\" onclick=\"quickchart('df-5fd2ea53-e560-4b3b-bd35-e4165ff442f7')\"\n",
              "            title=\"Suggest charts\"\n",
              "            style=\"display:none;\">\n",
              "\n",
              "<svg xmlns=\"http://www.w3.org/2000/svg\" height=\"24px\"viewBox=\"0 0 24 24\"\n",
              "     width=\"24px\">\n",
              "    <g>\n",
              "        <path d=\"M19 3H5c-1.1 0-2 .9-2 2v14c0 1.1.9 2 2 2h14c1.1 0 2-.9 2-2V5c0-1.1-.9-2-2-2zM9 17H7v-7h2v7zm4 0h-2V7h2v10zm4 0h-2v-4h2v4z\"/>\n",
              "    </g>\n",
              "</svg>\n",
              "  </button>\n",
              "\n",
              "<style>\n",
              "  .colab-df-quickchart {\n",
              "      --bg-color: #E8F0FE;\n",
              "      --fill-color: #1967D2;\n",
              "      --hover-bg-color: #E2EBFA;\n",
              "      --hover-fill-color: #174EA6;\n",
              "      --disabled-fill-color: #AAA;\n",
              "      --disabled-bg-color: #DDD;\n",
              "  }\n",
              "\n",
              "  [theme=dark] .colab-df-quickchart {\n",
              "      --bg-color: #3B4455;\n",
              "      --fill-color: #D2E3FC;\n",
              "      --hover-bg-color: #434B5C;\n",
              "      --hover-fill-color: #FFFFFF;\n",
              "      --disabled-bg-color: #3B4455;\n",
              "      --disabled-fill-color: #666;\n",
              "  }\n",
              "\n",
              "  .colab-df-quickchart {\n",
              "    background-color: var(--bg-color);\n",
              "    border: none;\n",
              "    border-radius: 50%;\n",
              "    cursor: pointer;\n",
              "    display: none;\n",
              "    fill: var(--fill-color);\n",
              "    height: 32px;\n",
              "    padding: 0;\n",
              "    width: 32px;\n",
              "  }\n",
              "\n",
              "  .colab-df-quickchart:hover {\n",
              "    background-color: var(--hover-bg-color);\n",
              "    box-shadow: 0 1px 2px rgba(60, 64, 67, 0.3), 0 1px 3px 1px rgba(60, 64, 67, 0.15);\n",
              "    fill: var(--button-hover-fill-color);\n",
              "  }\n",
              "\n",
              "  .colab-df-quickchart-complete:disabled,\n",
              "  .colab-df-quickchart-complete:disabled:hover {\n",
              "    background-color: var(--disabled-bg-color);\n",
              "    fill: var(--disabled-fill-color);\n",
              "    box-shadow: none;\n",
              "  }\n",
              "\n",
              "  .colab-df-spinner {\n",
              "    border: 2px solid var(--fill-color);\n",
              "    border-color: transparent;\n",
              "    border-bottom-color: var(--fill-color);\n",
              "    animation:\n",
              "      spin 1s steps(1) infinite;\n",
              "  }\n",
              "\n",
              "  @keyframes spin {\n",
              "    0% {\n",
              "      border-color: transparent;\n",
              "      border-bottom-color: var(--fill-color);\n",
              "      border-left-color: var(--fill-color);\n",
              "    }\n",
              "    20% {\n",
              "      border-color: transparent;\n",
              "      border-left-color: var(--fill-color);\n",
              "      border-top-color: var(--fill-color);\n",
              "    }\n",
              "    30% {\n",
              "      border-color: transparent;\n",
              "      border-left-color: var(--fill-color);\n",
              "      border-top-color: var(--fill-color);\n",
              "      border-right-color: var(--fill-color);\n",
              "    }\n",
              "    40% {\n",
              "      border-color: transparent;\n",
              "      border-right-color: var(--fill-color);\n",
              "      border-top-color: var(--fill-color);\n",
              "    }\n",
              "    60% {\n",
              "      border-color: transparent;\n",
              "      border-right-color: var(--fill-color);\n",
              "    }\n",
              "    80% {\n",
              "      border-color: transparent;\n",
              "      border-right-color: var(--fill-color);\n",
              "      border-bottom-color: var(--fill-color);\n",
              "    }\n",
              "    90% {\n",
              "      border-color: transparent;\n",
              "      border-bottom-color: var(--fill-color);\n",
              "    }\n",
              "  }\n",
              "</style>\n",
              "\n",
              "  <script>\n",
              "    async function quickchart(key) {\n",
              "      const quickchartButtonEl =\n",
              "        document.querySelector('#' + key + ' button');\n",
              "      quickchartButtonEl.disabled = true;  // To prevent multiple clicks.\n",
              "      quickchartButtonEl.classList.add('colab-df-spinner');\n",
              "      try {\n",
              "        const charts = await google.colab.kernel.invokeFunction(\n",
              "            'suggestCharts', [key], {});\n",
              "      } catch (error) {\n",
              "        console.error('Error during call to suggestCharts:', error);\n",
              "      }\n",
              "      quickchartButtonEl.classList.remove('colab-df-spinner');\n",
              "      quickchartButtonEl.classList.add('colab-df-quickchart-complete');\n",
              "    }\n",
              "    (() => {\n",
              "      let quickchartButtonEl =\n",
              "        document.querySelector('#df-5fd2ea53-e560-4b3b-bd35-e4165ff442f7 button');\n",
              "      quickchartButtonEl.style.display =\n",
              "        google.colab.kernel.accessAllowed ? 'block' : 'none';\n",
              "    })();\n",
              "  </script>\n",
              "</div>\n",
              "\n",
              "  <div id=\"id_7843ccf4-a3a6-4af4-98c1-115cc934cd24\">\n",
              "    <style>\n",
              "      .colab-df-generate {\n",
              "        background-color: #E8F0FE;\n",
              "        border: none;\n",
              "        border-radius: 50%;\n",
              "        cursor: pointer;\n",
              "        display: none;\n",
              "        fill: #1967D2;\n",
              "        height: 32px;\n",
              "        padding: 0 0 0 0;\n",
              "        width: 32px;\n",
              "      }\n",
              "\n",
              "      .colab-df-generate:hover {\n",
              "        background-color: #E2EBFA;\n",
              "        box-shadow: 0px 1px 2px rgba(60, 64, 67, 0.3), 0px 1px 3px 1px rgba(60, 64, 67, 0.15);\n",
              "        fill: #174EA6;\n",
              "      }\n",
              "\n",
              "      [theme=dark] .colab-df-generate {\n",
              "        background-color: #3B4455;\n",
              "        fill: #D2E3FC;\n",
              "      }\n",
              "\n",
              "      [theme=dark] .colab-df-generate:hover {\n",
              "        background-color: #434B5C;\n",
              "        box-shadow: 0px 1px 3px 1px rgba(0, 0, 0, 0.15);\n",
              "        filter: drop-shadow(0px 1px 2px rgba(0, 0, 0, 0.3));\n",
              "        fill: #FFFFFF;\n",
              "      }\n",
              "    </style>\n",
              "    <button class=\"colab-df-generate\" onclick=\"generateWithVariable('results_df')\"\n",
              "            title=\"Generate code using this dataframe.\"\n",
              "            style=\"display:none;\">\n",
              "\n",
              "  <svg xmlns=\"http://www.w3.org/2000/svg\" height=\"24px\"viewBox=\"0 0 24 24\"\n",
              "       width=\"24px\">\n",
              "    <path d=\"M7,19H8.4L18.45,9,17,7.55,7,17.6ZM5,21V16.75L18.45,3.32a2,2,0,0,1,2.83,0l1.4,1.43a1.91,1.91,0,0,1,.58,1.4,1.91,1.91,0,0,1-.58,1.4L9.25,21ZM18.45,9,17,7.55Zm-12,3A5.31,5.31,0,0,0,4.9,8.1,5.31,5.31,0,0,0,1,6.5,5.31,5.31,0,0,0,4.9,4.9,5.31,5.31,0,0,0,6.5,1,5.31,5.31,0,0,0,8.1,4.9,5.31,5.31,0,0,0,12,6.5,5.46,5.46,0,0,0,6.5,12Z\"/>\n",
              "  </svg>\n",
              "    </button>\n",
              "    <script>\n",
              "      (() => {\n",
              "      const buttonEl =\n",
              "        document.querySelector('#id_7843ccf4-a3a6-4af4-98c1-115cc934cd24 button.colab-df-generate');\n",
              "      buttonEl.style.display =\n",
              "        google.colab.kernel.accessAllowed ? 'block' : 'none';\n",
              "\n",
              "      buttonEl.onclick = () => {\n",
              "        google.colab.notebook.generateWithVariable('results_df');\n",
              "      }\n",
              "      })();\n",
              "    </script>\n",
              "  </div>\n",
              "\n",
              "    </div>\n",
              "  </div>\n"
            ]
          },
          "metadata": {},
          "execution_count": 99
        }
      ]
    }
  ]
}